{
 "cells": [
  {
   "cell_type": "code",
   "execution_count": 13,
   "metadata": {
    "ExecuteTime": {
     "end_time": "2021-08-29T21:13:55.822212Z",
     "start_time": "2021-08-29T21:13:55.640699Z"
    }
   },
   "outputs": [],
   "source": [
    "import os\n",
    "import time\n",
    "import pandas as pd\n",
    "import numpy as np\n",
    "from bs4 import BeautifulSoup\n",
    "from urllib.parse import urlencode\n",
    "import requests"
   ]
  },
  {
   "cell_type": "code",
   "execution_count": 14,
   "metadata": {},
   "outputs": [],
   "source": [
    "API_KEY = \"a1f5eae4966a5e0e09ec7d83b2f3819e\"\n",
    "COLUMN_NAMES = ['titulo', 'preço', 'condição', 'qntd vendida', 'marca', 'linha', 'modelo', 'numero_peça', 'qntd_velas', 'url']"
   ]
  },
  {
   "cell_type": "code",
   "execution_count": 9,
   "metadata": {},
   "outputs": [],
   "source": [
    "def get_scraperapi_url(url):\n",
    "    \"\"\"\n",
    "        Converts url into API request for ScraperAPI.\n",
    "    \"\"\"\n",
    "    payload = {'api_key': API_KEY, 'url': url}\n",
    "    proxy_url = 'http://api.scraperapi.com/?' + urlencode(payload)\n",
    "    return proxy_url"
   ]
  },
  {
   "cell_type": "markdown",
   "metadata": {},
   "source": [
    "# Unir relatorios da fase 1"
   ]
  },
  {
   "cell_type": "code",
   "execution_count": null,
   "metadata": {},
   "outputs": [],
   "source": [
    "df = pd.DataFrame(columns=COLUMN_NAMES)\n",
    "path = './relatorios/'\n",
    "files = os.listdir(path)"
   ]
  },
  {
   "cell_type": "code",
   "execution_count": null,
   "metadata": {},
   "outputs": [],
   "source": [
    "tamanho = len(files)\n",
    "\n",
    "for f in files:\n",
    "    print(\"Falta: \", str(tamanho))\n",
    "    df_aux = pd.read_csv(path + f, index_col=0)\n",
    "    df = df.append(df_aux, ignore_index=True)\n",
    "    tamanho -= 1"
   ]
  },
  {
   "cell_type": "markdown",
   "metadata": {},
   "source": [
    "# Separar os que nao tem titulo"
   ]
  },
  {
   "cell_type": "code",
   "execution_count": null,
   "metadata": {},
   "outputs": [],
   "source": [
    "df_anuncios_sem_titulo = df[df[\"titulo\"] == \"Não tem titulo\"]"
   ]
  },
  {
   "cell_type": "code",
   "execution_count": null,
   "metadata": {},
   "outputs": [],
   "source": [
    "# salvar apenas url\n",
    "df_anuncios_sem_titulo = df_anuncios_sem_titulo[['url']]\n",
    "\n",
    "# mudar nome da coluna\n",
    "df_anuncios_sem_titulo.columns = ['urls']"
   ]
  },
  {
   "cell_type": "code",
   "execution_count": null,
   "metadata": {},
   "outputs": [],
   "source": [
    "# total de urls\n",
    "len(df_anuncios_sem_titulo)"
   ]
  },
  {
   "cell_type": "code",
   "execution_count": null,
   "metadata": {},
   "outputs": [],
   "source": [
    "# restart index\n",
    "df_anuncios_sem_titulo = df_anuncios_sem_titulo.reset_index(drop=True)"
   ]
  },
  {
   "cell_type": "markdown",
   "metadata": {},
   "source": [
    "## Separar em df de 100 url"
   ]
  },
  {
   "cell_type": "code",
   "execution_count": null,
   "metadata": {},
   "outputs": [],
   "source": [
    "list_df = []\n",
    "n = 10\n",
    "for i in range(0,df_anuncios_sem_titulo.shape[0],n):\n",
    "    list_df.append(df_anuncios_sem_titulo[i:i+n])"
   ]
  },
  {
   "cell_type": "code",
   "execution_count": null,
   "metadata": {},
   "outputs": [],
   "source": [
    "# total de df\n",
    "len(list_df)"
   ]
  },
  {
   "cell_type": "markdown",
   "metadata": {},
   "source": [
    "## Separar os dfs em 10 grupos  "
   ]
  },
  {
   "cell_type": "code",
   "execution_count": null,
   "metadata": {},
   "outputs": [],
   "source": [
    "# dividir a lista de df em 10 grupos\n",
    "def chunks(lst, n):\n",
    "    \"\"\"Yield successive n-sized chunks from lst.\"\"\"\n",
    "    for i in range(0, len(lst), n):\n",
    "        yield lst[i:i + n]\n",
    "        \n",
    "grupos_df = list(chunks(list_df, round(len(list_df)/10)))"
   ]
  },
  {
   "cell_type": "code",
   "execution_count": null,
   "metadata": {},
   "outputs": [],
   "source": [
    "len(grupos_df)"
   ]
  },
  {
   "cell_type": "markdown",
   "metadata": {},
   "source": [
    "## Salvar nas 10 pastas"
   ]
  },
  {
   "cell_type": "code",
   "execution_count": null,
   "metadata": {},
   "outputs": [],
   "source": [
    "aux_n = 0\n",
    "for i in range(1, 11):\n",
    "    n = round(len(list_df)/10)\n",
    "    grupo_df = list_df[aux_n:aux_n + n]\n",
    "    \n",
    "    name_aux = 1\n",
    "    for df_save in grupo_df:\n",
    "        df_save.to_csv('./bases/bases'+str(i)+'/anuncios_sem_titulo_'+str(i)+\"_\"+str(name_aux)+'.csv', index=False)\n",
    "        name_aux += 1\n",
    "    \n",
    "    aux_n += n"
   ]
  },
  {
   "cell_type": "markdown",
   "metadata": {},
   "source": [
    "# Salvar os que estão certos"
   ]
  },
  {
   "cell_type": "code",
   "execution_count": null,
   "metadata": {},
   "outputs": [],
   "source": [
    "df_anuncios_com_titulo = df[df[\"titulo\"] != \"Não tem titulo\"]"
   ]
  },
  {
   "cell_type": "code",
   "execution_count": null,
   "metadata": {},
   "outputs": [],
   "source": [
    "df_anuncios_com_titulo.to_csv('df1.csv', index=False)"
   ]
  },
  {
   "cell_type": "markdown",
   "metadata": {},
   "source": [
    "# Unir e salvar os links que forem refeitos"
   ]
  },
  {
   "cell_type": "code",
   "execution_count": null,
   "metadata": {
    "ExecuteTime": {
     "end_time": "2021-08-29T19:32:23.607051Z",
     "start_time": "2021-08-29T19:32:23.572113Z"
    }
   },
   "outputs": [],
   "source": [
    "path = './relatorios/relatorios_novos/'\n",
    "files = os.listdir(path)"
   ]
  },
  {
   "cell_type": "code",
   "execution_count": null,
   "metadata": {
    "ExecuteTime": {
     "end_time": "2021-08-29T19:32:39.089541Z",
     "start_time": "2021-08-29T19:32:39.070593Z"
    }
   },
   "outputs": [],
   "source": [
    "df = pd.DataFrame(columns=COLUMN_NAMES)"
   ]
  },
  {
   "cell_type": "code",
   "execution_count": null,
   "metadata": {
    "ExecuteTime": {
     "end_time": "2021-08-29T20:26:44.758266Z",
     "start_time": "2021-08-29T20:26:04.930346Z"
    }
   },
   "outputs": [],
   "source": [
    "tamanho = len(files)\n",
    "\n",
    "for f in files:\n",
    "    print(\"Falta: \", str(tamanho))\n",
    "    df_aux = pd.read_csv(path + f, index_col=0)\n",
    "    df = df.append(df_aux, ignore_index=True)\n",
    "    tamanho -= 1"
   ]
  },
  {
   "cell_type": "code",
   "execution_count": null,
   "metadata": {
    "ExecuteTime": {
     "end_time": "2021-08-29T20:36:50.561498Z",
     "start_time": "2021-08-29T20:36:50.265259Z"
    }
   },
   "outputs": [],
   "source": [
    "df_anuncios_com_titulo = df[df[\"titulo\"] != \"Não tem titulo\"]\n",
    "df_anuncios_com_titulo.to_csv('df2.csv', index=False)"
   ]
  },
  {
   "cell_type": "markdown",
   "metadata": {},
   "source": [
    "# Unir os 2 CSVs"
   ]
  },
  {
   "cell_type": "code",
   "execution_count": 3,
   "metadata": {
    "ExecuteTime": {
     "end_time": "2021-08-29T21:11:23.471688Z",
     "start_time": "2021-08-29T21:11:21.071708Z"
    }
   },
   "outputs": [
    {
     "name": "stderr",
     "output_type": "stream",
     "text": [
      "c:\\users\\hiago bonamelli\\appdata\\local\\programs\\python\\python39\\lib\\site-packages\\IPython\\core\\interactiveshell.py:3146: DtypeWarning: Columns (3) have mixed types.Specify dtype option on import or set low_memory=False.\n",
      "  has_raised = await self.run_ast_nodes(code_ast.body, cell_name,\n"
     ]
    }
   ],
   "source": [
    "df1 = pd.read_csv('df1.csv')\n",
    "df2 = pd.read_csv('df2.csv')"
   ]
  },
  {
   "cell_type": "code",
   "execution_count": 4,
   "metadata": {
    "ExecuteTime": {
     "end_time": "2021-08-29T21:11:24.224186Z",
     "start_time": "2021-08-29T21:11:24.216208Z"
    }
   },
   "outputs": [],
   "source": [
    "df = pd.DataFrame(columns=COLUMN_NAMES)"
   ]
  },
  {
   "cell_type": "code",
   "execution_count": 5,
   "metadata": {
    "ExecuteTime": {
     "end_time": "2021-08-29T21:11:24.803788Z",
     "start_time": "2021-08-29T21:11:24.697767Z"
    }
   },
   "outputs": [],
   "source": [
    "df = df.append(df1)\n",
    "df = df.append(df2)"
   ]
  },
  {
   "cell_type": "markdown",
   "metadata": {},
   "source": [
    "# Tratar base"
   ]
  },
  {
   "cell_type": "markdown",
   "metadata": {},
   "source": [
    "## Tirar anúncios sem venda"
   ]
  },
  {
   "cell_type": "code",
   "execution_count": 6,
   "metadata": {
    "ExecuteTime": {
     "end_time": "2021-08-29T21:11:28.318465Z",
     "start_time": "2021-08-29T21:11:28.135756Z"
    }
   },
   "outputs": [],
   "source": [
    "df = df[df[\"qntd vendida\"] != \"Não tem qntd de vendas\"]"
   ]
  },
  {
   "cell_type": "markdown",
   "metadata": {},
   "source": [
    "## Mudar tipo coluna quantidade vendida pra número"
   ]
  },
  {
   "cell_type": "code",
   "execution_count": 7,
   "metadata": {
    "ExecuteTime": {
     "end_time": "2021-08-29T21:11:29.055636Z",
     "start_time": "2021-08-29T21:11:28.967202Z"
    }
   },
   "outputs": [],
   "source": [
    "df[\"qntd vendida\"] = df[\"qntd vendida\"].astype(int)"
   ]
  },
  {
   "cell_type": "markdown",
   "metadata": {},
   "source": [
    "## Mudar coluna preço"
   ]
  },
  {
   "cell_type": "markdown",
   "metadata": {},
   "source": [
    "### Pegar todos os preços faltando"
   ]
  },
  {
   "cell_type": "code",
   "execution_count": 31,
   "metadata": {},
   "outputs": [
    {
     "data": {
      "text/plain": [
       "1"
      ]
     },
     "execution_count": 31,
     "metadata": {},
     "output_type": "execute_result"
    }
   ],
   "source": [
    "len(df[df[\"preço\"] == \"não tem preço\"])"
   ]
  },
  {
   "cell_type": "code",
   "execution_count": 33,
   "metadata": {},
   "outputs": [
    {
     "name": "stdout",
     "output_type": "stream",
     "text": [
      "https://produto.mercadolivre.com.br/MLB-1916402432-jogo-vela-aquecedora-frontier-sel-25-diesel-2007-a-2012-_JM#position=32&search_layout=stack&type=item&tracking_id=5afc3325-e13e-4e82-86b0-cc6967458eba\n",
      "R$316.0\n"
     ]
    }
   ],
   "source": [
    "for index, row in df.iterrows():\n",
    "    if row[\"preço\"] == \"não tem preço\":\n",
    "        print(row[\"url\"])\n",
    "        page = requests.get(row[\"url\"])\n",
    "        soup = BeautifulSoup(page.content, 'html.parser')\n",
    "        \n",
    "        # preco\n",
    "        div_preco = soup.find_all(\"div\", class_=\"ui-pdp-price__second-line\")[0]\n",
    "        fraction = div_preco.find_all(\"span\", class_=\"price-tag-fraction\")[0].text\n",
    "        try:\n",
    "            cents = div_preco.find_all(\"span\", class_=\"price-tag-cents\")[0].text\n",
    "        except:\n",
    "            cents = \"0\"\n",
    "        preco = \"R$\" + fraction + \".\" + cents\n",
    "        df.at[index, 'preço'] = preco\n",
    "        print(preco)\n",
    "        time.sleep(3)"
   ]
  },
  {
   "cell_type": "code",
   "execution_count": null,
   "metadata": {},
   "outputs": [],
   "source": []
  },
  {
   "cell_type": "code",
   "execution_count": 15,
   "metadata": {
    "ExecuteTime": {
     "end_time": "2021-08-29T21:15:07.713006Z",
     "start_time": "2021-08-29T21:15:06.090074Z"
    }
   },
   "outputs": [],
   "source": [
    "page = requests.get(get_scraperapi_url(\"https://produto.mercadolivre.com.br/MLB-1488650291-chave-vela-articulada-16mm21mm-automotiva-veicular-_JM#position=6&search_layout=stack&type=item&tracking_id=a6760de9-35c7-4660-b935-347bbeae1032\"))\n",
    "soup = BeautifulSoup(page.content, 'html.parser')\n",
    "fraction = soup.find_all(\"span\", class_='price-tag-fraction')[0].text\n",
    "cents = soup.find_all(\"span\", class_=\"price-tag-cents\")[0].text\n",
    "preco = \"R$\" + fraction + \".\" + cents"
   ]
  },
  {
   "cell_type": "code",
   "execution_count": 16,
   "metadata": {},
   "outputs": [
    {
     "data": {
      "text/plain": [
       "'R$29.90'"
      ]
     },
     "execution_count": 16,
     "metadata": {},
     "output_type": "execute_result"
    }
   ],
   "source": [
    "preco"
   ]
  },
  {
   "cell_type": "code",
   "execution_count": null,
   "metadata": {},
   "outputs": [],
   "source": [
    "page = requests.get(\"https://produto.mercadolivre.com.br/MLB-1325010005-jogo-de-velas-citroen-c4-pallas-20-16v-flex-marelli-kh6rfmm-_JM#position=4&search_layout=stack&type=item&tracking_id=999ca883-cd97-489b-820e-6aecf40262c6\")\n",
    "soup = BeautifulSoup(page.content, 'html.parser')"
   ]
  },
  {
   "cell_type": "code",
   "execution_count": null,
   "metadata": {},
   "outputs": [],
   "source": [
    "div_preco = soup.find_all(\"div\", class_=\"ui-pdp-price__second-line\")[0]"
   ]
  },
  {
   "cell_type": "code",
   "execution_count": null,
   "metadata": {},
   "outputs": [],
   "source": [
    "div_preco.find_all(\"span\", class_=\"price-tag-fraction\")[0].text\n"
   ]
  },
  {
   "cell_type": "code",
   "execution_count": null,
   "metadata": {},
   "outputs": [],
   "source": [
    "div_preco.find_all(\"span\", class_=\"price-tag-cents\")[0].text"
   ]
  },
  {
   "cell_type": "code",
   "execution_count": null,
   "metadata": {},
   "outputs": [],
   "source": []
  },
  {
   "cell_type": "code",
   "execution_count": null,
   "metadata": {},
   "outputs": [],
   "source": []
  },
  {
   "cell_type": "code",
   "execution_count": null,
   "metadata": {},
   "outputs": [],
   "source": []
  },
  {
   "cell_type": "code",
   "execution_count": null,
   "metadata": {
    "ExecuteTime": {
     "end_time": "2021-08-29T21:15:07.950983Z",
     "start_time": "2021-08-29T21:15:07.890316Z"
    }
   },
   "outputs": [],
   "source": [
    "contagem = 0\n",
    "for index, row in df.iterrows():\n",
    "    if row[\"preço\"] == \"não tem preço\":\n",
    "        contagem += 1\n",
    "    \n",
    "print(contagem)"
   ]
  },
  {
   "cell_type": "code",
   "execution_count": null,
   "metadata": {
    "ExecuteTime": {
     "end_time": "2021-08-29T21:18:33.727373Z",
     "start_time": "2021-08-29T21:18:33.710416Z"
    }
   },
   "outputs": [],
   "source": []
  },
  {
   "cell_type": "code",
   "execution_count": null,
   "metadata": {
    "ExecuteTime": {
     "end_time": "2021-08-29T21:18:30.666229Z",
     "start_time": "2021-08-29T21:18:30.647283Z"
    }
   },
   "outputs": [],
   "source": []
  },
  {
   "cell_type": "code",
   "execution_count": null,
   "metadata": {},
   "outputs": [],
   "source": []
  },
  {
   "cell_type": "code",
   "execution_count": null,
   "metadata": {},
   "outputs": [],
   "source": []
  },
  {
   "cell_type": "code",
   "execution_count": 34,
   "metadata": {
    "ExecuteTime": {
     "end_time": "2021-08-29T20:57:28.882814Z",
     "start_time": "2021-08-29T20:54:47.983165Z"
    }
   },
   "outputs": [],
   "source": [
    "df.to_excel('df_final.xlsx')"
   ]
  },
  {
   "cell_type": "code",
   "execution_count": null,
   "metadata": {},
   "outputs": [],
   "source": []
  }
 ],
 "metadata": {
  "kernelspec": {
   "display_name": "Python 3",
   "language": "python",
   "name": "python3"
  },
  "language_info": {
   "codemirror_mode": {
    "name": "ipython",
    "version": 3
   },
   "file_extension": ".py",
   "mimetype": "text/x-python",
   "name": "python",
   "nbconvert_exporter": "python",
   "pygments_lexer": "ipython3",
   "version": "3.9.0"
  },
  "toc": {
   "base_numbering": 1,
   "nav_menu": {},
   "number_sections": true,
   "sideBar": true,
   "skip_h1_title": false,
   "title_cell": "Table of Contents",
   "title_sidebar": "Contents",
   "toc_cell": false,
   "toc_position": {},
   "toc_section_display": true,
   "toc_window_display": true
  },
  "varInspector": {
   "cols": {
    "lenName": 16,
    "lenType": 16,
    "lenVar": 40
   },
   "kernels_config": {
    "python": {
     "delete_cmd_postfix": "",
     "delete_cmd_prefix": "del ",
     "library": "var_list.py",
     "varRefreshCmd": "print(var_dic_list())"
    },
    "r": {
     "delete_cmd_postfix": ") ",
     "delete_cmd_prefix": "rm(",
     "library": "var_list.r",
     "varRefreshCmd": "cat(var_dic_list()) "
    }
   },
   "types_to_exclude": [
    "module",
    "function",
    "builtin_function_or_method",
    "instance",
    "_Feature"
   ],
   "window_display": false
  }
 },
 "nbformat": 4,
 "nbformat_minor": 2
}
