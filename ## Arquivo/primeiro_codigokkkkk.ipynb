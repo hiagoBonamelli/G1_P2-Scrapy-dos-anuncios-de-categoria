{
 "cells": [
  {
   "cell_type": "code",
   "execution_count": 3,
   "id": "97c100c6",
   "metadata": {},
   "outputs": [],
   "source": [
    "a = 'SLC'"
   ]
  },
  {
   "cell_type": "code",
   "execution_count": 12,
   "id": "b44f11a3",
   "metadata": {},
   "outputs": [
    {
     "name": "stdout",
     "output_type": "stream",
     "text": [
      "\u001b[31mSLC\u001b[0;0m\n"
     ]
    }
   ],
   "source": [
    "print (f'\\033[31m'+str(a)+'\\033[0;0m')"
   ]
  },
  {
   "cell_type": "code",
   "execution_count": null,
   "id": "99a89907",
   "metadata": {},
   "outputs": [],
   "source": []
  },
  {
   "cell_type": "code",
   "execution_count": null,
   "id": "1b9675d2",
   "metadata": {},
   "outputs": [],
   "source": []
  },
  {
   "cell_type": "markdown",
   "id": "cfd8c865",
   "metadata": {},
   "source": [
    "# Como clickar e pegar informações ?"
   ]
  },
  {
   "cell_type": "code",
   "execution_count": 5,
   "id": "d5ec127c",
   "metadata": {},
   "outputs": [],
   "source": [
    "import pandas as pd\n",
    "import os\n",
    "import webbrowser\n",
    "from selenium import webdriver\n",
    "from selenium.webdriver.common.keys import Keys\n",
    "from selenium.common.exceptions import NoSuchElementException\n",
    "import pandas as pd\n",
    "import threading\n",
    "import logging\n",
    "import time"
   ]
  },
  {
   "cell_type": "markdown",
   "id": "7d968a59",
   "metadata": {},
   "source": [
    "### Ler 1 csv e testar"
   ]
  },
  {
   "cell_type": "code",
   "execution_count": 6,
   "id": "e38b0830",
   "metadata": {},
   "outputs": [
    {
     "data": {
      "text/html": [
       "<div>\n",
       "<style scoped>\n",
       "    .dataframe tbody tr th:only-of-type {\n",
       "        vertical-align: middle;\n",
       "    }\n",
       "\n",
       "    .dataframe tbody tr th {\n",
       "        vertical-align: top;\n",
       "    }\n",
       "\n",
       "    .dataframe thead th {\n",
       "        text-align: right;\n",
       "    }\n",
       "</style>\n",
       "<table border=\"1\" class=\"dataframe\">\n",
       "  <thead>\n",
       "    <tr style=\"text-align: right;\">\n",
       "      <th></th>\n",
       "      <th>urls</th>\n",
       "    </tr>\n",
       "  </thead>\n",
       "  <tbody>\n",
       "    <tr>\n",
       "      <th>0</th>\n",
       "      <td>https://click1.mercadolivre.com.br/mclics/clic...</td>\n",
       "    </tr>\n",
       "    <tr>\n",
       "      <th>1</th>\n",
       "      <td>https://produto.mercadolivre.com.br/MLB-145455...</td>\n",
       "    </tr>\n",
       "    <tr>\n",
       "      <th>2</th>\n",
       "      <td>https://produto.mercadolivre.com.br/MLB-145455...</td>\n",
       "    </tr>\n",
       "    <tr>\n",
       "      <th>3</th>\n",
       "      <td>https://produto.mercadolivre.com.br/MLB-145455...</td>\n",
       "    </tr>\n",
       "    <tr>\n",
       "      <th>4</th>\n",
       "      <td>https://produto.mercadolivre.com.br/MLB-145456...</td>\n",
       "    </tr>\n",
       "  </tbody>\n",
       "</table>\n",
       "</div>"
      ],
      "text/plain": [
       "                                                urls\n",
       "0  https://click1.mercadolivre.com.br/mclics/clic...\n",
       "1  https://produto.mercadolivre.com.br/MLB-145455...\n",
       "2  https://produto.mercadolivre.com.br/MLB-145455...\n",
       "3  https://produto.mercadolivre.com.br/MLB-145455...\n",
       "4  https://produto.mercadolivre.com.br/MLB-145456..."
      ]
     },
     "execution_count": 6,
     "metadata": {},
     "output_type": "execute_result"
    }
   ],
   "source": [
    "df = pd.read_csv(r'C:\\Users\\kkaua\\Data Science\\Mercado Livre\\mercado_livre_2\\identificar_colunas\\5_bases\\bases\\21-22_pagina_17.csv')\n",
    "df.head()"
   ]
  },
  {
   "cell_type": "markdown",
   "id": "ab59980f",
   "metadata": {},
   "source": [
    "### Encontrar forma de clickar nas urls no data frame"
   ]
  },
  {
   "cell_type": "code",
   "execution_count": 18,
   "id": "5407d125",
   "metadata": {
    "scrolled": true
   },
   "outputs": [
    {
     "name": "stdout",
     "output_type": "stream",
     "text": [
      "<class 'str'>\n"
     ]
    }
   ],
   "source": [
    "print(type(df['urls'][1]))"
   ]
  },
  {
   "cell_type": "code",
   "execution_count": null,
   "id": "533c50b6",
   "metadata": {},
   "outputs": [],
   "source": []
  },
  {
   "cell_type": "markdown",
   "id": "80642661",
   "metadata": {},
   "source": [
    "### Buscar as informações que preciso"
   ]
  },
  {
   "cell_type": "code",
   "execution_count": null,
   "id": "f6402b1b",
   "metadata": {},
   "outputs": [],
   "source": [
    "\n",
    "titulo = '/html/body/main/div/div[3]/div/div[1]/div/div[1]/div/div[1]/div/div[2]/h1'\n",
    "quantidade_vendida = '/html/body/main/div/div[3]/div/div[1]/div/div[2]/div[1]/div/div/div[3]/ul/li[1]/strong'\n",
    "preco = '/html/body/main/div/div[3]/div/div[1]/div/div[1]/div/div[2]/div/div[1]/span/span[2]'\n",
    "marca = '/html/body/main/div/div[3]/div/div[2]/div[2]/div[2]/div/div/table/tbody/tr[1]'\n",
    "linha = '/html/body/main/div/div[3]/div/div[2]/div[2]/div[2]/div/div[1]/table/tbody/tr[2]'\n",
    "modelo = '/html/body/main/div/div[3]/div/div[2]/div[2]/div[2]/div/div[1]/table/tbody/tr[3]'\n",
    "numero_preca = '/html/body/main/div/div[3]/div/div[2]/div[2]/div[2]/div/div[1]/table/tbody/tr[4]'\n",
    "quantidade_velas = '/html/body/main/div/div[3]/div/div[2]/div[2]/div[2]/div/div[1]/table/tbody/tr[5]'"
   ]
  },
  {
   "cell_type": "markdown",
   "id": "65e51eaf",
   "metadata": {},
   "source": [
    "### teste codigo para buscar"
   ]
  },
  {
   "cell_type": "code",
   "execution_count": null,
   "id": "80cb4c9a",
   "metadata": {},
   "outputs": [],
   "source": [
    "driver = webdriver.Firefox()\n",
    "driver.get(df['urls'][48])\n",
    "try:\n",
    "    busca_linha = driver.find_element_by_xpath('/html/body/main/div/div[3]/div/div[2]/div[2]/div[2]/div/div/table/tbody/tr[3]/td/span').text\n",
    "    print(busca_linha)\n",
    "except:\n",
    "    print('Nao encontrei')\n",
    "    busca_linha = ('Não encontrei linha')\n",
    "#driver.close()\n",
    "    \n",
    "    \n"
   ]
  },
  {
   "cell_type": "code",
   "execution_count": null,
   "id": "9fbb6990",
   "metadata": {},
   "outputs": [],
   "source": [
    "find = 'Novo'\n",
    "if find == 'Novo':\n",
    "    print('Caguei')"
   ]
  },
  {
   "cell_type": "code",
   "execution_count": null,
   "id": "949c3220",
   "metadata": {},
   "outputs": [],
   "source": []
  },
  {
   "cell_type": "code",
   "execution_count": null,
   "id": "f820afd2",
   "metadata": {},
   "outputs": [],
   "source": []
  },
  {
   "cell_type": "markdown",
   "id": "d0370ead",
   "metadata": {},
   "source": [
    "### Buscando em varios"
   ]
  },
  {
   "cell_type": "code",
   "execution_count": null,
   "id": "1053b897",
   "metadata": {},
   "outputs": [],
   "source": [
    "   \n",
    "\n",
    "driver = webdriver.Firefox()\n",
    "driver.get(df['urls'][1])\n",
    "\n",
    "\n",
    "try:\n",
    "    find_titulo = driver.find_element_by_xpath(titulo)\n",
    "    print(find_titulo.text)\n",
    "except:\n",
    "    print('Não encontramos titulo.')\n",
    "\n",
    "try:\n",
    "    find_quantidade_vendida = driver.find_element_by_xpath(quantidade_vendida)\n",
    "    print(find_quantidade_vendida.text)\n",
    "except:\n",
    "    print('Não encontramos quantidade vendida')\n",
    "\n",
    "try:\n",
    "    find_preco = driver.find_element_by_xpath(\"//meta[@itemprop='price']\")\n",
    "    print('R$', find_preco.get_attribute(\"content\"))\n",
    "except:\n",
    "    print('Não encontramos preço')\n",
    "try:\n",
    "    find_marca = driver.find_element_by_xpath(marca)\n",
    "    print(find_marca.text)\n",
    "except:\n",
    "    print('Não encontramos marca')\n",
    "try:\n",
    "    find_linha = driver.find_element_by_xpath(linha)\n",
    "    print(find_linha.text)\n",
    "except:\n",
    "    print('Não encontramos linha')    \n",
    "try:\n",
    "    find_modelo = driver.find_element_by_xpath(modelo)\n",
    "    print(find_modelo.text)\n",
    "except:\n",
    "    print('Não encontramos modelo')    \n",
    "try:\n",
    "    find_preca = driver.find_element_by_xpath(numero_preca)\n",
    "    print(find_preca.text)\n",
    "except:\n",
    "    print('Não encontramos peça')    \n",
    "try:\n",
    "    find_quantidade_velas = driver.find_element_by_xpath(quantidade_velas)\n",
    "    print(find_quantidade_velas.text)\n",
    "except:\n",
    "    print('Não encontramos quantidade de velas')\n"
   ]
  },
  {
   "cell_type": "code",
   "execution_count": null,
   "id": "7e1b92b0",
   "metadata": {},
   "outputs": [],
   "source": []
  },
  {
   "cell_type": "markdown",
   "id": "1cae95f1",
   "metadata": {},
   "source": [
    "### Codigo rodando com apenas 1 df"
   ]
  },
  {
   "cell_type": "code",
   "execution_count": 15,
   "id": "c5e1dde7",
   "metadata": {},
   "outputs": [
    {
     "name": "stdout",
     "output_type": "stream",
     "text": [
      "[1]\n",
      "[1, 2]\n",
      "[1, 2, 3]\n",
      "[1, 2, 3, 4]\n",
      "[1, 2, 3, 4, 5]\n",
      "[1, 2, 3, 4, 5, 6]\n",
      "[1, 2, 3, 4, 5, 6, 7]\n",
      "[1, 2, 3, 4, 5, 6, 7, 8]\n",
      "[1, 2, 3, 4, 5, 6, 7, 8, 9]\n",
      "[1, 2, 3, 4, 5, 6, 7, 8, 9, 10]\n",
      "[1, 2, 3, 4, 5, 6, 7, 8, 9, 10, 11]\n",
      "[1, 2, 3, 4, 5, 6, 7, 8, 9, 10, 11, 12]\n",
      "[1, 2, 3, 4, 5, 6, 7, 8, 9, 10, 11, 12, 13]\n",
      "[1, 2, 3, 4, 5, 6, 7, 8, 9, 10, 11, 12, 13, 14]\n",
      "[1, 2, 3, 4, 5, 6, 7, 8, 9, 10, 11, 12, 13, 14, 15]\n",
      "[1, 2, 3, 4, 5, 6, 7, 8, 9, 10, 11, 12, 13, 14, 15, 16]\n",
      "[1, 2, 3, 4, 5, 6, 7, 8, 9, 10, 11, 12, 13, 14, 15, 16, 17]\n",
      "[1, 2, 3, 4, 5, 6, 7, 8, 9, 10, 11, 12, 13, 14, 15, 16, 17, 18]\n",
      "[1, 2, 3, 4, 5, 6, 7, 8, 9, 10, 11, 12, 13, 14, 15, 16, 17, 18, 19]\n",
      "[1, 2, 3, 4, 5, 6, 7, 8, 9, 10, 11, 12, 13, 14, 15, 16, 17, 18, 19, 20]\n",
      "[1, 2, 3, 4, 5, 6, 7, 8, 9, 10, 11, 12, 13, 14, 15, 16, 17, 18, 19, 20, 21]\n",
      "[1, 2, 3, 4, 5, 6, 7, 8, 9, 10, 11, 12, 13, 14, 15, 16, 17, 18, 19, 20, 21, 22]\n",
      "[1, 2, 3, 4, 5, 6, 7, 8, 9, 10, 11, 12, 13, 14, 15, 16, 17, 18, 19, 20, 21, 22, 23]\n",
      "[1, 2, 3, 4, 5, 6, 7, 8, 9, 10, 11, 12, 13, 14, 15, 16, 17, 18, 19, 20, 21, 22, 23, 24]\n",
      "[1, 2, 3, 4, 5, 6, 7, 8, 9, 10, 11, 12, 13, 14, 15, 16, 17, 18, 19, 20, 21, 22, 23, 24, 25]\n",
      "[1, 2, 3, 4, 5, 6, 7, 8, 9, 10, 11, 12, 13, 14, 15, 16, 17, 18, 19, 20, 21, 22, 23, 24, 25, 26]\n",
      "[1, 2, 3, 4, 5, 6, 7, 8, 9, 10, 11, 12, 13, 14, 15, 16, 17, 18, 19, 20, 21, 22, 23, 24, 25, 26, 27]\n",
      "[1, 2, 3, 4, 5, 6, 7, 8, 9, 10, 11, 12, 13, 14, 15, 16, 17, 18, 19, 20, 21, 22, 23, 24, 25, 26, 27, 28]\n",
      "[1, 2, 3, 4, 5, 6, 7, 8, 9, 10, 11, 12, 13, 14, 15, 16, 17, 18, 19, 20, 21, 22, 23, 24, 25, 26, 27, 28, 29]\n",
      "[1, 2, 3, 4, 5, 6, 7, 8, 9, 10, 11, 12, 13, 14, 15, 16, 17, 18, 19, 20, 21, 22, 23, 24, 25, 26, 27, 28, 29, 30]\n",
      "[1, 2, 3, 4, 5, 6, 7, 8, 9, 10, 11, 12, 13, 14, 15, 16, 17, 18, 19, 20, 21, 22, 23, 24, 25, 26, 27, 28, 29, 30, 31]\n",
      "[1, 2, 3, 4, 5, 6, 7, 8, 9, 10, 11, 12, 13, 14, 15, 16, 17, 18, 19, 20, 21, 22, 23, 24, 25, 26, 27, 28, 29, 30, 31, 32]\n",
      "[1, 2, 3, 4, 5, 6, 7, 8, 9, 10, 11, 12, 13, 14, 15, 16, 17, 18, 19, 20, 21, 22, 23, 24, 25, 26, 27, 28, 29, 30, 31, 32, 33]\n",
      "[1, 2, 3, 4, 5, 6, 7, 8, 9, 10, 11, 12, 13, 14, 15, 16, 17, 18, 19, 20, 21, 22, 23, 24, 25, 26, 27, 28, 29, 30, 31, 32, 33, 34]\n",
      "[1, 2, 3, 4, 5, 6, 7, 8, 9, 10, 11, 12, 13, 14, 15, 16, 17, 18, 19, 20, 21, 22, 23, 24, 25, 26, 27, 28, 29, 30, 31, 32, 33, 34, 35]\n",
      "[1, 2, 3, 4, 5, 6, 7, 8, 9, 10, 11, 12, 13, 14, 15, 16, 17, 18, 19, 20, 21, 22, 23, 24, 25, 26, 27, 28, 29, 30, 31, 32, 33, 34, 35, 36]\n",
      "[1, 2, 3, 4, 5, 6, 7, 8, 9, 10, 11, 12, 13, 14, 15, 16, 17, 18, 19, 20, 21, 22, 23, 24, 25, 26, 27, 28, 29, 30, 31, 32, 33, 34, 35, 36, 37]\n",
      "[1, 2, 3, 4, 5, 6, 7, 8, 9, 10, 11, 12, 13, 14, 15, 16, 17, 18, 19, 20, 21, 22, 23, 24, 25, 26, 27, 28, 29, 30, 31, 32, 33, 34, 35, 36, 37, 38]\n",
      "[1, 2, 3, 4, 5, 6, 7, 8, 9, 10, 11, 12, 13, 14, 15, 16, 17, 18, 19, 20, 21, 22, 23, 24, 25, 26, 27, 28, 29, 30, 31, 32, 33, 34, 35, 36, 37, 38, 39]\n",
      "[1, 2, 3, 4, 5, 6, 7, 8, 9, 10, 11, 12, 13, 14, 15, 16, 17, 18, 19, 20, 21, 22, 23, 24, 25, 26, 27, 28, 29, 30, 31, 32, 33, 34, 35, 36, 37, 38, 39, 40]\n",
      "[1, 2, 3, 4, 5, 6, 7, 8, 9, 10, 11, 12, 13, 14, 15, 16, 17, 18, 19, 20, 21, 22, 23, 24, 25, 26, 27, 28, 29, 30, 31, 32, 33, 34, 35, 36, 37, 38, 39, 40, 41]\n",
      "[1, 2, 3, 4, 5, 6, 7, 8, 9, 10, 11, 12, 13, 14, 15, 16, 17, 18, 19, 20, 21, 22, 23, 24, 25, 26, 27, 28, 29, 30, 31, 32, 33, 34, 35, 36, 37, 38, 39, 40, 41, 42]\n",
      "[1, 2, 3, 4, 5, 6, 7, 8, 9, 10, 11, 12, 13, 14, 15, 16, 17, 18, 19, 20, 21, 22, 23, 24, 25, 26, 27, 28, 29, 30, 31, 32, 33, 34, 35, 36, 37, 38, 39, 40, 41, 42, 43]\n",
      "[1, 2, 3, 4, 5, 6, 7, 8, 9, 10, 11, 12, 13, 14, 15, 16, 17, 18, 19, 20, 21, 22, 23, 24, 25, 26, 27, 28, 29, 30, 31, 32, 33, 34, 35, 36, 37, 38, 39, 40, 41, 42, 43, 44]\n",
      "[1, 2, 3, 4, 5, 6, 7, 8, 9, 10, 11, 12, 13, 14, 15, 16, 17, 18, 19, 20, 21, 22, 23, 24, 25, 26, 27, 28, 29, 30, 31, 32, 33, 34, 35, 36, 37, 38, 39, 40, 41, 42, 43, 44, 45]\n",
      "[1, 2, 3, 4, 5, 6, 7, 8, 9, 10, 11, 12, 13, 14, 15, 16, 17, 18, 19, 20, 21, 22, 23, 24, 25, 26, 27, 28, 29, 30, 31, 32, 33, 34, 35, 36, 37, 38, 39, 40, 41, 42, 43, 44, 45, 46]\n",
      "[1, 2, 3, 4, 5, 6, 7, 8, 9, 10, 11, 12, 13, 14, 15, 16, 17, 18, 19, 20, 21, 22, 23, 24, 25, 26, 27, 28, 29, 30, 31, 32, 33, 34, 35, 36, 37, 38, 39, 40, 41, 42, 43, 44, 45, 46, 47]\n",
      "[1, 2, 3, 4, 5, 6, 7, 8, 9, 10, 11, 12, 13, 14, 15, 16, 17, 18, 19, 20, 21, 22, 23, 24, 25, 26, 27, 28, 29, 30, 31, 32, 33, 34, 35, 36, 37, 38, 39, 40, 41, 42, 43, 44, 45, 46, 47, 48]\n",
      "[1, 2, 3, 4, 5, 6, 7, 8, 9, 10, 11, 12, 13, 14, 15, 16, 17, 18, 19, 20, 21, 22, 23, 24, 25, 26, 27, 28, 29, 30, 31, 32, 33, 34, 35, 36, 37, 38, 39, 40, 41, 42, 43, 44, 45, 46, 47, 48, 49]\n",
      "[1, 2, 3, 4, 5, 6, 7, 8, 9, 10, 11, 12, 13, 14, 15, 16, 17, 18, 19, 20, 21, 22, 23, 24, 25, 26, 27, 28, 29, 30, 31, 32, 33, 34, 35, 36, 37, 38, 39, 40, 41, 42, 43, 44, 45, 46, 47, 48, 49, 50]\n",
      "[1, 2, 3, 4, 5, 6, 7, 8, 9, 10, 11, 12, 13, 14, 15, 16, 17, 18, 19, 20, 21, 22, 23, 24, 25, 26, 27, 28, 29, 30, 31, 32, 33, 34, 35, 36, 37, 38, 39, 40, 41, 42, 43, 44, 45, 46, 47, 48, 49, 50, 51]\n",
      "[1, 2, 3, 4, 5, 6, 7, 8, 9, 10, 11, 12, 13, 14, 15, 16, 17, 18, 19, 20, 21, 22, 23, 24, 25, 26, 27, 28, 29, 30, 31, 32, 33, 34, 35, 36, 37, 38, 39, 40, 41, 42, 43, 44, 45, 46, 47, 48, 49, 50, 51, 52]\n"
     ]
    }
   ],
   "source": [
    "lista_vazia = []\n",
    "for a in range(1,53):\n",
    "    lista_vazia.append(a)\n",
    "    print(lista_vazia)"
   ]
  },
  {
   "cell_type": "code",
   "execution_count": 9,
   "id": "59b3aebe",
   "metadata": {},
   "outputs": [],
   "source": [
    "guarda_info = []"
   ]
  },
  {
   "cell_type": "code",
   "execution_count": 10,
   "id": "576619c4",
   "metadata": {},
   "outputs": [],
   "source": [
    "\n",
    "def rodar (rodar_df):\n",
    "    driver = webdriver.Firefox()\n",
    "    driver.get(df['urls'][rodar_df])\n",
    "\n",
    "    print(rodar_df)\n",
    "    \n",
    "    try:\n",
    "        busca_titulo = driver.find_element_by_xpath('/html/body/main/div/div[3]/div/div[1]/div/div[1]/div/div[1]/div/div[2]/h1').text\n",
    "        print(f'Titulo: {busca_titulo}')\n",
    "    except:\n",
    "        print('Não encontrei')\n",
    "        busca_titulo = ('Não encontrei titulo')\n",
    "    try:\n",
    "        busca_qntd_vendida = driver.find_element_by_xpath('/html/body/main/div/div[3]/div/div[1]/div/div[1]/div/div[1]/div/div[1]/span').text        \n",
    "        if busca_qntd_vendida == 'Novo':\n",
    "            busca_qntd_vendida = 0\n",
    "            print('Quantidade vendida: 0')\n",
    "    except:\n",
    "        print('Não encontrei qntd vendida')\n",
    "        busca_qntd_vendida = ('Não encontrei qntd vendida')\n",
    "        \n",
    "    try:\n",
    "        busca_preco1 = driver.find_element_by_xpath(\"//meta[@itemprop='price']\")\n",
    "        busca_preco = ('R$', busca_preco1.get_attribute(\"content\"))\n",
    "        print(f'Busca preço: {busca_preco}')\n",
    "    except:\n",
    "        print('Nao encontrei')\n",
    "        busca_preco = ('Não encontrei preço')\n",
    "    try:\n",
    "        busca_marca = driver.find_element_by_xpath('/html/body/main/div/div[3]/div/div[2]/div[2]/div[2]/div/div[1]/table/tbody/tr[1]/td/span').text\n",
    "        print(f'Busca marca: {busca_marca}')\n",
    "    except:\n",
    "        print('Nao encontrei')\n",
    "        busca_marca = ('Não encontrei marca')\n",
    "    try:\n",
    "        busca_numero_peca = driver.find_element_by_xpath('/html/body/main/div/div[3]/div/div[2]/div[2]/div[2]/div/div[1]/table/tbody/tr[2]/td/span').text\n",
    "        print(f'Numero peça: {busca_numero_peca}')\n",
    "    except:\n",
    "        print('Nao encontrei')\n",
    "        busca_numero_peca = ('Não encontrei peça')\n",
    "    try:\n",
    "        busca_qntd_velas = driver.find_element_by_xpath('/html/body/main/div/div[3]/div/div[2]/div[2]/div[2]/div/div/table/tbody/tr[3]/td/span').text\n",
    "        print(f'Qntd de velas: {busca_qntd_velas}')\n",
    "    except:\n",
    "        print('Nao encontrei')\n",
    "        busca_qntd_velas = ('Não encontrei quantidade velas')\n",
    "    try:\n",
    "        busca_linha = driver.find_element_by_xpath('/html/body/main/div/div[3]/div/div[2]/div[2]/div[2]/div/div[1]/table/tbody/tr[3]/td/span').text\n",
    "        print(f'Busca linha: {busca_linha}')\n",
    "    except:\n",
    "        print('Não encontrei linha')\n",
    "        busca_linha = ('Não encontrei linha')\n",
    "        \n",
    "    try:\n",
    "        busca_peça = driver.find_element_by_xpath('/html/body/main/div/div[3]/div/div[2]/div[2]/div[2]/div/div[1]/table/tbody/tr[4]/td/span').text\n",
    "        print(f'Busca peça: {busca_peça}')\n",
    "    except:\n",
    "        print('Não encontrei peça')\n",
    "        busca_peça = ('Não encontrei peça')\n",
    "    try:\n",
    "        busca_modelo = driver.find_element_by_xpath('/html/body/main/div/div[3]/div/div[2]/div[2]/div[2]/div/div[1]/table/tbody/tr[3]/td/span').text\n",
    "        print(f'Busca modelo: {busca_modelo}')\n",
    "    except:\n",
    "        print('Não encontrei modelo')\n",
    "        busca_modelo = ('Não encontrei modelo')\n",
    "\n",
    "    lista = [busca_titulo, busca_preco, busca_qntd_vendida, busca_marca, busca_numero_peca, busca_qntd_velas, busca_linha, busca_peça, busca_modelo] \n",
    "    \n",
    "    guarda_info.append(lista)\n",
    "    \n",
    "    \n",
    "    driver.close()"
   ]
  },
  {
   "cell_type": "code",
   "execution_count": 16,
   "id": "0ba82a2f",
   "metadata": {},
   "outputs": [
    {
     "name": "stdout",
     "output_type": "stream",
     "text": [
      "1\n",
      "2\n",
      "3\n",
      "4\n",
      "5\n",
      "6\n",
      "7\n",
      "8\n",
      "9\n",
      "10\n",
      "11\n",
      "12\n",
      "13\n",
      "14\n",
      "15\n",
      "16\n",
      "17\n",
      "18\n",
      "19\n",
      "20\n",
      "21\n",
      "22\n",
      "23\n",
      "24\n",
      "25\n",
      "26\n",
      "27\n",
      "28\n",
      "29\n",
      "30\n",
      "31\n",
      "32\n",
      "33\n",
      "34\n",
      "35\n",
      "36\n",
      "37\n",
      "38\n",
      "39\n",
      "40\n",
      "41\n",
      "42\n",
      "43\n",
      "44\n",
      "45\n",
      "46\n",
      "47\n",
      "48\n",
      "49\n",
      "50\n",
      "51\n",
      "52\n"
     ]
    }
   ],
   "source": [
    "for i in lista_vazia:\n",
    "    print(i)\n",
    "    #rodar(i)"
   ]
  },
  {
   "cell_type": "markdown",
   "id": "36dd0e02",
   "metadata": {},
   "source": [
    "### Salvar final"
   ]
  },
  {
   "cell_type": "code",
   "execution_count": null,
   "id": "2faf6623",
   "metadata": {},
   "outputs": [],
   "source": [
    "#como era apenas 1 df deixei para salvar no final."
   ]
  },
  {
   "cell_type": "code",
   "execution_count": 13,
   "id": "f938fe9f",
   "metadata": {},
   "outputs": [],
   "source": [
    "df_salvar = pd.DataFrame(guarda_info)\n",
    "df_salvar.to_csv('teste_busca_2.csv')"
   ]
  },
  {
   "cell_type": "code",
   "execution_count": null,
   "id": "7c12f047",
   "metadata": {},
   "outputs": [],
   "source": [
    "\n",
    "        \n"
   ]
  },
  {
   "cell_type": "code",
   "execution_count": null,
   "id": "cf27a122",
   "metadata": {},
   "outputs": [],
   "source": []
  },
  {
   "cell_type": "markdown",
   "id": "92c3aa77",
   "metadata": {},
   "source": [
    "### Tentando fazer rodar com varios df"
   ]
  },
  {
   "cell_type": "code",
   "execution_count": null,
   "id": "bf13fae9",
   "metadata": {},
   "outputs": [],
   "source": [
    "lista_vazia = []\n",
    "for a in range(1,53):\n",
    "    lista_vazia.append(a)"
   ]
  },
  {
   "cell_type": "code",
   "execution_count": null,
   "id": "8eacca14",
   "metadata": {},
   "outputs": [],
   "source": [
    "guarda_info = []"
   ]
  },
  {
   "cell_type": "code",
   "execution_count": null,
   "id": "65251cba",
   "metadata": {},
   "outputs": [],
   "source": [
    "def rodar (rodar_df):\n",
    "    driver = webdriver.Firefox()\n",
    "    \n",
    "    for files in file:\n",
    "        print(f'Vai começar processar o arquivo: {files}.')\n",
    "        csv = pd.read_csv(r'C:\\Users\\kkaua\\Data Science\\Mercado Livre\\mercado_livre_2\\soluções\\5_bases\\bases\\{}'.format(files))\n",
    "        driver.get(df['urls'][rodar_df])\n",
    "\n",
    "        print(rodar_df)\n",
    "    \n",
    "    \n",
    "        try:\n",
    "            busca_titulo = driver.find_element_by_xpath('/html/body/main/div/div[3]/div/div[1]/div/div[1]/div/div[1]/div/div[2]/h1').text\n",
    "            print(busca_titulo)\n",
    "        except:\n",
    "            print('Não encontrei')\n",
    "            busca_titulo = ('Não encontrei titulo')\n",
    "        try:\n",
    "            busca_qntd_vendida = driver.find_element_by_xpath('/html/body/main/div/div[3]/div/div[1]/div/div[2]/div[1]/div/div/div[3]/ul/li[1]/strong').text\n",
    "        except:\n",
    "            print('Não encontrei') \n",
    "            busca_qntd_vendida = ('Não encontrei quantidade vendida')\n",
    "        try:\n",
    "            busca_preco1 = driver.find_element_by_xpath(\"//meta[@itemprop='price']\")\n",
    "            busca_preco = ('R$', busca_preco1.get_attribute(\"content\"))\n",
    "            print(busca_preco)\n",
    "        except:\n",
    "            print('Nao encontrei')\n",
    "            busca_preco = ('Não encontrei preço')\n",
    "        try:\n",
    "            busca_marca = driver.find_element_by_xpath('/html/body/main/div/div[3]/div/div[2]/div[2]/div[2]/div/div/table/tbody/tr[1]').text\n",
    "            print(busca_marca)\n",
    "        except:\n",
    "            print('Nao encontrei')\n",
    "            busca_marca = ('Não encontrei marca')\n",
    "        try:\n",
    "            busca_linha = driver.find_element_by_xpath('/html/body/main/div/div[3]/div/div[2]/div[2]/div[2]/div/div[1]/table/tbody/tr[2]').text\n",
    "            print(busca_linha)\n",
    "        except:\n",
    "            print('Nao encontrei')\n",
    "            busca_linha = ('Não encontrei linha')\n",
    "        try:\n",
    "            busca_modelo = driver.find_element_by_xpath('/html/body/main/div/div[3]/div/div[2]/div[2]/div[2]/div/div[1]/table/tbody/tr[3]').text\n",
    "            print(busca_modelo)\n",
    "        except:\n",
    "            print('Nao encontrei')\n",
    "            busca_modelo = ('Não encontrei modelo')\n",
    "        try:\n",
    "            busca_numero_peca = driver.find_element_by_xpath('/html/body/main/div/div[3]/div/div[2]/div[2]/div[2]/div/div[1]/table/tbody/tr[4]').text\n",
    "            print(busca_numero_peca)\n",
    "        except:\n",
    "            print('Nao encontrei')\n",
    "            busca_numero_peca = ('Não encontrei peça')\n",
    "        try:\n",
    "            busca_qntd_velas = driver.find_element_by_xpath('/html/body/main/div/div[3]/div/div[2]/div[2]/div[2]/div/div[1]/table/tbody/tr[5]').text\n",
    "            print(busca_qntd_velas)\n",
    "        except:\n",
    "            print('Nao encontrei')\n",
    "            busca_qntd_velas = ('Não encontrei quantidade velas')\n",
    "\n",
    "\n",
    "        lista = [busca_titulo, busca_preco, busca_qntd_vendida, busca_marca, busca_linha, busca_modelo, busca_numero_peca, busca_qntd_velas]   \n",
    "\n",
    "        guarda_info.append(lista)\n",
    "\n",
    "\n",
    "    driver.close()"
   ]
  },
  {
   "cell_type": "code",
   "execution_count": null,
   "id": "3c0c3f50",
   "metadata": {},
   "outputs": [],
   "source": [
    "for i in lista_vazia:\n",
    "    rodar(i)"
   ]
  },
  {
   "cell_type": "code",
   "execution_count": null,
   "id": "10f551db",
   "metadata": {},
   "outputs": [],
   "source": []
  },
  {
   "cell_type": "code",
   "execution_count": null,
   "id": "c9a802c3",
   "metadata": {},
   "outputs": [],
   "source": []
  },
  {
   "cell_type": "code",
   "execution_count": null,
   "id": "cffa1bb1",
   "metadata": {},
   "outputs": [],
   "source": []
  },
  {
   "cell_type": "markdown",
   "id": "a2e5b51f",
   "metadata": {},
   "source": [
    "### Aréa de testes"
   ]
  },
  {
   "cell_type": "code",
   "execution_count": null,
   "id": "49ea8612",
   "metadata": {},
   "outputs": [],
   "source": [
    "import pandas as pd\n",
    "import glob"
   ]
  },
  {
   "cell_type": "code",
   "execution_count": null,
   "id": "606a6015",
   "metadata": {},
   "outputs": [],
   "source": [
    "path = r'C:\\Users\\kkaua\\Data Science\\Mercado Livre\\mercado_livre_2\\identificar_colunas\\5_bases\\bases' # use your path\n",
    "all_files = glob.glob(path + \"/*.csv\")\n",
    "print(all_files)"
   ]
  },
  {
   "cell_type": "code",
   "execution_count": null,
   "id": "b17ecf77",
   "metadata": {},
   "outputs": [],
   "source": []
  },
  {
   "cell_type": "code",
   "execution_count": null,
   "id": "44d05b8f",
   "metadata": {},
   "outputs": [],
   "source": [
    "for filename in all_files:\n",
    "    print(f'vai começar o arquivo{filename}')\n",
    "    df = pd.read_csv(filename, index_col=None, header=0)"
   ]
  },
  {
   "cell_type": "code",
   "execution_count": null,
   "id": "e5ef8c47",
   "metadata": {},
   "outputs": [],
   "source": [
    "def rodar(rodar_df):\n",
    "    for filename in all_files:\n",
    "        print(f'vai começar o arquivo{filename}')\n",
    "        df = pd.read_csv(filename, index_col=None, header=0)\n",
    "        df['urls'][rodar_df]\n",
    "rodar(1)"
   ]
  },
  {
   "cell_type": "code",
   "execution_count": null,
   "id": "1f1be956",
   "metadata": {},
   "outputs": [],
   "source": [
    "def rodar(rodar_df):\n",
    "    for filename in all_files:\n",
    "        print(f'vai começar o arquivo{filename}')\n",
    "        df = pd.read_csv(filename, index_col=None, header=0)\n",
    "        print(df['urls'][rodar_df])\n",
    "rodar(1)"
   ]
  },
  {
   "cell_type": "code",
   "execution_count": null,
   "id": "4f4b61f8",
   "metadata": {},
   "outputs": [],
   "source": []
  },
  {
   "cell_type": "code",
   "execution_count": null,
   "id": "c9860f16",
   "metadata": {},
   "outputs": [],
   "source": [
    "#testando essa df"
   ]
  },
  {
   "cell_type": "code",
   "execution_count": null,
   "id": "a30fec0f",
   "metadata": {},
   "outputs": [],
   "source": [
    "def rodar(rodar_df):\n",
    "    for filename in all_files:\n",
    "        print(f'vai começar o arquivo{filename}')\n",
    "        df = pd.read_csv(filename, index_col=None, header=0)\n",
    "    print(df['urls'][rodar_df])\n",
    "rodar(1)"
   ]
  },
  {
   "cell_type": "code",
   "execution_count": null,
   "id": "58712bb6",
   "metadata": {},
   "outputs": [],
   "source": []
  },
  {
   "cell_type": "code",
   "execution_count": null,
   "id": "5a56318b",
   "metadata": {},
   "outputs": [],
   "source": []
  },
  {
   "cell_type": "code",
   "execution_count": null,
   "id": "96706cdf",
   "metadata": {},
   "outputs": [],
   "source": []
  },
  {
   "cell_type": "code",
   "execution_count": null,
   "id": "3611c4ef",
   "metadata": {},
   "outputs": [],
   "source": []
  },
  {
   "cell_type": "code",
   "execution_count": null,
   "id": "1b915c9a",
   "metadata": {},
   "outputs": [],
   "source": []
  },
  {
   "cell_type": "code",
   "execution_count": null,
   "id": "206920eb",
   "metadata": {},
   "outputs": [],
   "source": []
  },
  {
   "cell_type": "code",
   "execution_count": null,
   "id": "1643a718",
   "metadata": {},
   "outputs": [],
   "source": []
  },
  {
   "cell_type": "code",
   "execution_count": null,
   "id": "e7d3d1b7",
   "metadata": {},
   "outputs": [],
   "source": []
  },
  {
   "cell_type": "code",
   "execution_count": null,
   "id": "b5b8a97c",
   "metadata": {},
   "outputs": [],
   "source": []
  },
  {
   "cell_type": "code",
   "execution_count": null,
   "id": "3355e4ca",
   "metadata": {},
   "outputs": [],
   "source": []
  }
 ],
 "metadata": {
  "kernelspec": {
   "display_name": "Python 3",
   "language": "python",
   "name": "python3"
  },
  "language_info": {
   "codemirror_mode": {
    "name": "ipython",
    "version": 3
   },
   "file_extension": ".py",
   "mimetype": "text/x-python",
   "name": "python",
   "nbconvert_exporter": "python",
   "pygments_lexer": "ipython3",
   "version": "3.8.8"
  }
 },
 "nbformat": 4,
 "nbformat_minor": 5
}
