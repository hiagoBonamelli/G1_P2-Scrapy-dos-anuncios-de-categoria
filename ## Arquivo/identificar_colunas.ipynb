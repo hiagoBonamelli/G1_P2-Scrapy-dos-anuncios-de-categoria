{
 "cells": [
  {
   "cell_type": "markdown",
   "id": "bb2ec3bc",
   "metadata": {},
   "source": [
    "# Problema: Como identificar se todos os csv estão com links na coluna url ?"
   ]
  },
  {
   "cell_type": "code",
   "execution_count": 3,
   "id": "f9669cd5",
   "metadata": {},
   "outputs": [],
   "source": [
    "import pandas as pd\n",
    "import os"
   ]
  },
  {
   "cell_type": "code",
   "execution_count": 4,
   "id": "0852a809",
   "metadata": {},
   "outputs": [
    {
     "name": "stdout",
     "output_type": "stream",
     "text": [
      "C:\\Users\\kkaua\\Data Science\\Mercado Livre\\mercado_livre_2\\soluções\\5_bases\\bases\n"
     ]
    }
   ],
   "source": [
    "path = r'C:\\Users\\kkaua\\Data Science\\Mercado Livre\\mercado_livre_2\\soluções\\5_bases\\bases'# Encontrar o caminho dos 5 CSV\n",
    "print(path)#Mostrar"
   ]
  },
  {
   "cell_type": "code",
   "execution_count": 6,
   "id": "ec8646b6",
   "metadata": {},
   "outputs": [
    {
     "ename": "FileNotFoundError",
     "evalue": "[WinError 3] O sistema não pode encontrar o caminho especificado: 'C:\\\\Users\\\\kkaua\\\\Data Science\\\\Mercado Livre\\\\mercado_livre_2\\\\soluções\\\\5_bases\\\\bases'",
     "output_type": "error",
     "traceback": [
      "\u001b[1;31m---------------------------------------------------------------------------\u001b[0m",
      "\u001b[1;31mFileNotFoundError\u001b[0m                         Traceback (most recent call last)",
      "\u001b[1;32m<ipython-input-6-8d7dbb29b41b>\u001b[0m in \u001b[0;36m<module>\u001b[1;34m\u001b[0m\n\u001b[1;32m----> 1\u001b[1;33m \u001b[0mfile\u001b[0m \u001b[1;33m=\u001b[0m \u001b[0mos\u001b[0m\u001b[1;33m.\u001b[0m\u001b[0mlistdir\u001b[0m\u001b[1;33m(\u001b[0m\u001b[0mpath\u001b[0m\u001b[1;33m)\u001b[0m\u001b[1;31m#Mostrar o que tem dentro da pasta dos 5 CSV\u001b[0m\u001b[1;33m\u001b[0m\u001b[1;33m\u001b[0m\u001b[0m\n\u001b[0m\u001b[0;32m      2\u001b[0m \u001b[0mprint\u001b[0m\u001b[1;33m(\u001b[0m\u001b[0mfile\u001b[0m\u001b[1;33m)\u001b[0m\u001b[1;31m#Mostrar\u001b[0m\u001b[1;33m\u001b[0m\u001b[1;33m\u001b[0m\u001b[0m\n\u001b[0;32m      3\u001b[0m \u001b[0mprint\u001b[0m\u001b[1;33m(\u001b[0m\u001b[0mtype\u001b[0m\u001b[1;33m(\u001b[0m\u001b[0mfile\u001b[0m\u001b[1;33m)\u001b[0m\u001b[1;33m)\u001b[0m\u001b[1;33m\u001b[0m\u001b[1;33m\u001b[0m\u001b[0m\n",
      "\u001b[1;31mFileNotFoundError\u001b[0m: [WinError 3] O sistema não pode encontrar o caminho especificado: 'C:\\\\Users\\\\kkaua\\\\Data Science\\\\Mercado Livre\\\\mercado_livre_2\\\\soluções\\\\5_bases\\\\bases'"
     ]
    }
   ],
   "source": [
    "file = os.listdir(path)#Mostrar o que tem dentro da pasta dos 5 CSV\n",
    "print(file)#Mostrar\n",
    "print(type(file))"
   ]
  },
  {
   "cell_type": "code",
   "execution_count": null,
   "id": "cb43381f",
   "metadata": {},
   "outputs": [],
   "source": []
  },
  {
   "cell_type": "code",
   "execution_count": 12,
   "id": "77df9fb7",
   "metadata": {},
   "outputs": [
    {
     "name": "stdout",
     "output_type": "stream",
     "text": [
      "Vai começar processar o arquivo: 21-22_pagina_14.csv.\n",
      "21-22_pagina_14.csv 0 []\n",
      "Vai começar processar o arquivo: 21-22_pagina_15.csv.\n",
      "Vai começar processar o arquivo: 21-22_pagina_16.csv.\n",
      "Vai começar processar o arquivo: 21-22_pagina_17.csv.\n",
      "Vai começar processar o arquivo: 21-22_pagina_18.csv.\n"
     ]
    }
   ],
   "source": [
    "for files in file:\n",
    "    print(f'Vai começar processar o arquivo: {files}.')\n",
    "    csv = pd.read_csv(r'C:\\Users\\kkaua\\Data Science\\Mercado Livre\\mercado_livre_2\\soluções\\5_bases\\bases\\{}'.format(files))\n",
    "    #print(csv)\n",
    "\n",
    "    contar_url = len(csv['urls'])\n",
    "    if contar_url <= 0:\n",
    "        contar_coluna = csv.values\n",
    "        print(files,contar_url, contar_coluna)\n",
    "            \n",
    "        #print('Fim')\n",
    "    #print('Fim')\n",
    "#print('Fim')"
   ]
  },
  {
   "cell_type": "code",
   "execution_count": 24,
   "id": "74e51521",
   "metadata": {},
   "outputs": [],
   "source": [
    "# Quero mostrar se os tiver URl menor ou igual a zero ele me mostre qual coluna e me mostrar o numeros de links"
   ]
  },
  {
   "cell_type": "code",
   "execution_count": 82,
   "id": "88cf5cda",
   "metadata": {},
   "outputs": [],
   "source": [
    "#Se não souber o que está dando erro: PRINT e TYPE"
   ]
  },
  {
   "cell_type": "code",
   "execution_count": 86,
   "id": "7b5cbe60",
   "metadata": {},
   "outputs": [
    {
     "name": "stdout",
     "output_type": "stream",
     "text": [
      "<class 'pandas.core.frame.DataFrame'>\n",
      "<class 'pandas.core.frame.DataFrame'>\n",
      "<class 'pandas.core.frame.DataFrame'>\n",
      "<class 'pandas.core.frame.DataFrame'>\n",
      "<class 'pandas.core.frame.DataFrame'>\n",
      "Fim\n"
     ]
    }
   ],
   "source": [
    "for c in lista:  \n",
    "    print(type(c))\n",
    "    contar_url = len(c['urls'])\n",
    "    if contar_url <= 0:#se 'contar_url' for menor que zero ou zero.\n",
    "        contar_coluna = c.columns.values#caso encontre erro, identificar a coluna.\n",
    "        print(contar_coluna)\n",
    "print('Fim')\n"
   ]
  },
  {
   "cell_type": "code",
   "execution_count": 25,
   "id": "60b6d147",
   "metadata": {
    "collapsed": true
   },
   "outputs": [
    {
     "ename": "NameError",
     "evalue": "name 'contar_url' is not defined",
     "output_type": "error",
     "traceback": [
      "\u001b[1;31m---------------------------------------------------------------------------\u001b[0m",
      "\u001b[1;31mNameError\u001b[0m                                 Traceback (most recent call last)",
      "\u001b[1;32m<ipython-input-25-1818c0bdb543>\u001b[0m in \u001b[0;36m<module>\u001b[1;34m\u001b[0m\n\u001b[0;32m      1\u001b[0m \u001b[1;32mfor\u001b[0m \u001b[0mc\u001b[0m \u001b[1;32min\u001b[0m \u001b[0mlista\u001b[0m\u001b[1;33m:\u001b[0m\u001b[1;33m\u001b[0m\u001b[1;33m\u001b[0m\u001b[0m\n\u001b[0;32m      2\u001b[0m \u001b[1;33m\u001b[0m\u001b[0m\n\u001b[1;32m----> 3\u001b[1;33m     \u001b[1;32mif\u001b[0m \u001b[0mcontar_url\u001b[0m \u001b[1;33m<=\u001b[0m \u001b[1;36m0\u001b[0m\u001b[1;33m:\u001b[0m\u001b[1;31m#se 'contar_url' for menor que zero ou zero.\u001b[0m\u001b[1;33m\u001b[0m\u001b[1;33m\u001b[0m\u001b[0m\n\u001b[0m\u001b[0;32m      4\u001b[0m         \u001b[0mcontar_url\u001b[0m \u001b[1;33m=\u001b[0m \u001b[0mlen\u001b[0m\u001b[1;33m(\u001b[0m\u001b[0mc\u001b[0m\u001b[1;33m[\u001b[0m\u001b[1;34m'urls'\u001b[0m\u001b[1;33m]\u001b[0m\u001b[1;33m)\u001b[0m\u001b[1;31m#contar url recebe len(DFs['urls']).\u001b[0m\u001b[1;33m\u001b[0m\u001b[1;33m\u001b[0m\u001b[0m\n\u001b[0;32m      5\u001b[0m         \u001b[0mprint\u001b[0m\u001b[1;33m(\u001b[0m\u001b[0mcontar_url\u001b[0m\u001b[1;33m,\u001b[0m\u001b[0mc\u001b[0m\u001b[1;33m)\u001b[0m\u001b[1;31m#mostrar print caso encontre.\u001b[0m\u001b[1;33m\u001b[0m\u001b[1;33m\u001b[0m\u001b[0m\n",
      "\u001b[1;31mNameError\u001b[0m: name 'contar_url' is not defined"
     ]
    }
   ],
   "source": [
    "for c in lista:  \n",
    "    \n",
    "    if contar_url <= 0:#se 'contar_url' for menor que zero ou zero.\n",
    "        contar_url = len(c['urls'])#contar url recebe len(DFs['urls']).\n",
    "        print(contar_url,c)#mostrar print caso encontre.\n",
    "        contar_coluna = c.columns.values#caso encontre erro, identificar a coluna.\n",
    "        print(contar_coluna)#mostrar a coluna com o erro.\n",
    "\n",
    "print('Fim')"
   ]
  },
  {
   "cell_type": "code",
   "execution_count": 21,
   "id": "cde001b8",
   "metadata": {},
   "outputs": [
    {
     "name": "stdout",
     "output_type": "stream",
     "text": [
      "(53, 1)\n"
     ]
    },
    {
     "data": {
      "text/plain": [
       "urls    53\n",
       "dtype: int64"
      ]
     },
     "execution_count": 21,
     "metadata": {},
     "output_type": "execute_result"
    }
   ],
   "source": [
    "df2 = pd.read_csv('21-22_pagina_15.csv')\n",
    "print(df2.shape)\n",
    "df.count()"
   ]
  },
  {
   "cell_type": "code",
   "execution_count": 20,
   "id": "cf462556",
   "metadata": {},
   "outputs": [
    {
     "name": "stdout",
     "output_type": "stream",
     "text": [
      "(53, 1)\n"
     ]
    },
    {
     "data": {
      "text/plain": [
       "urls    53\n",
       "dtype: int64"
      ]
     },
     "execution_count": 20,
     "metadata": {},
     "output_type": "execute_result"
    }
   ],
   "source": [
    "df3 = pd.read_csv('21-22_pagina_16.csv')\n",
    "print(df3.shape)\n",
    "df.count()"
   ]
  },
  {
   "cell_type": "code",
   "execution_count": 19,
   "id": "cb235728",
   "metadata": {},
   "outputs": [
    {
     "name": "stdout",
     "output_type": "stream",
     "text": [
      "(53, 1)\n"
     ]
    },
    {
     "data": {
      "text/plain": [
       "urls    53\n",
       "dtype: int64"
      ]
     },
     "execution_count": 19,
     "metadata": {},
     "output_type": "execute_result"
    }
   ],
   "source": [
    "df4 = pd.read_csv('21-22_pagina_17.csv')\n",
    "print(df4.shape)\n",
    "df.count()"
   ]
  },
  {
   "cell_type": "code",
   "execution_count": 18,
   "id": "5dbc8acd",
   "metadata": {},
   "outputs": [
    {
     "name": "stdout",
     "output_type": "stream",
     "text": [
      "(53, 1)\n"
     ]
    },
    {
     "data": {
      "text/plain": [
       "urls    53\n",
       "dtype: int64"
      ]
     },
     "execution_count": 18,
     "metadata": {},
     "output_type": "execute_result"
    }
   ],
   "source": [
    "df5 = pd.read_csv('21-22_pagina_18.csv')\n",
    "print(df5.shape)\n",
    "df.count()"
   ]
  }
 ],
 "metadata": {
  "kernelspec": {
   "display_name": "Python 3",
   "language": "python",
   "name": "python3"
  },
  "language_info": {
   "codemirror_mode": {
    "name": "ipython",
    "version": 3
   },
   "file_extension": ".py",
   "mimetype": "text/x-python",
   "name": "python",
   "nbconvert_exporter": "python",
   "pygments_lexer": "ipython3",
   "version": "3.8.8"
  }
 },
 "nbformat": 4,
 "nbformat_minor": 5
}
