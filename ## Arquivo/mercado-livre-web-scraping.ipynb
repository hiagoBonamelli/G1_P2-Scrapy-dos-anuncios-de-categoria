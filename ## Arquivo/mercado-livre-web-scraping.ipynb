{
 "cells": [
  {
   "cell_type": "code",
   "execution_count": null,
   "id": "8b9163ce",
   "metadata": {},
   "outputs": [],
   "source": [
    "# Erros: Scrapy em algum momento, ultrapssou o limite de paginas (40) e quase dobrou (79)."
   ]
  },
  {
   "cell_type": "code",
   "execution_count": null,
   "id": "5fc2aeab",
   "metadata": {},
   "outputs": [],
   "source": []
  },
  {
   "cell_type": "markdown",
   "id": "4334a58a",
   "metadata": {},
   "source": [
    "# Mercado Livre - Web Scraping"
   ]
  },
  {
   "cell_type": "markdown",
   "id": "81841773",
   "metadata": {},
   "source": [
    "###### • Importando as bibliotecas :"
   ]
  },
  {
   "cell_type": "code",
   "execution_count": 2,
   "id": "f29ace9f",
   "metadata": {},
   "outputs": [],
   "source": [
    "from selenium import webdriver\n",
    "from selenium.webdriver.common.keys import Keys\n",
    "from selenium.common.exceptions import NoSuchElementException\n",
    "import pandas as pd\n",
    "import threading\n",
    "import logging\n",
    "import time"
   ]
  },
  {
   "cell_type": "markdown",
   "id": "436ad09f",
   "metadata": {},
   "source": [
    "###### • Criando uma geração de lista:"
   ]
  },
  {
   "cell_type": "code",
   "execution_count": 3,
   "id": "bce3fad4",
   "metadata": {},
   "outputs": [],
   "source": [
    "lista_vazia = [ ]\n",
    "for a in range(1000,2000,100):#GERAÇÃO DA LISTA \n",
    "    lista_vazia.append(str(a) + \"-\" + str(a+100))"
   ]
  },
  {
   "cell_type": "markdown",
   "id": "b44b208a",
   "metadata": {},
   "source": [
    "###### • Função para geral resultado das páginas:"
   ]
  },
  {
   "cell_type": "code",
   "execution_count": 1,
   "id": "29fee43f",
   "metadata": {},
   "outputs": [],
   "source": [
    "def exec_scrapy(range_preco):\n",
    "    driver = webdriver.Firefox()\n",
    "    driver.get(\"https://lista.mercadolivre.com.br/pecas/carros/ignicao/velas/_DisplayType_LF_PriceRange_{}\".format(range_preco))\n",
    "# Linha para encontrar \"Página não encontrada\".\n",
    "    try:\n",
    "        texto = driver.find_element_by_xpath('/html/body/main/div/div/div[2]/h3')\n",
    "        texto = texto.text\n",
    "    except NoSuchElementException:\n",
    "        texto = ''\n",
    "\n",
    "    if texto == 'Escreva na busca o que você deseja encontrar.':\n",
    "            print(range_preco, \" - range de preço vazio\")\n",
    "    else:\n",
    "        element = driver.find_element_by_class_name(\"ui-search-search-result__quantity-results\").text\n",
    "        print(element)\n",
    "        fim = ''\n",
    "        j = 1\n",
    "#Fim do codigo.      \n",
    "\n",
    "# Pegar os links e passar de página .      \n",
    "        while fim == '':\n",
    "        # for j in range(1, 3):\n",
    "            print(range_preco + ' - ', j)\n",
    "\n",
    "            aux_link = 0\n",
    "            while aux_link == 0:\n",
    "                try:\n",
    "                    driver.find_element_by_xpath('/html/body/main/div/div[1]/section/ol/li[1]/div/div/div[2]/div[1]/a')\n",
    "                    aux_link += 1\n",
    "                except:\n",
    "                    driver.find_element_by_xpath('/html/body/main/div/div[1]/section/ol/li[1]/div/div/div[2]/div[2]/a')\n",
    "                    aux_link += 1\n",
    "\n",
    "            if texto == 'Escreva na busca o que você deseja encontrar.':\n",
    "                print(range_preco, \" - range de preço vazio\")\n",
    "            else:\n",
    "                lista_url = []\n",
    "                for i in range(1, 100):\n",
    "                    try:\n",
    "                        try:\n",
    "                            url = driver.find_element_by_xpath('/html/body/main/div/div[1]/section/ol/li[{}]/div/div/div[2]/div[1]/a'.format(str(i)))\n",
    "                            lista_url.append(url.get_attribute('href'))\n",
    "\n",
    "                        except:\n",
    "                            url = driver.find_element_by_xpath('/html/body/main/div/div[1]/section/ol/li[{}]/div/div/div[2]/div[2]/a'.format(str(i)))\n",
    "                            lista_url.append(url.get_attribute('href'))\n",
    "\n",
    "                    except:\n",
    "                        pass\n",
    "                        \n",
    "# fim do pegar os links e passar de página. \n",
    "                    \n",
    "                    df = pd.DataFrame({'urls': lista_url})\n",
    "                    df.to_csv('./bases/' + range_preco + '_pagina_' + str(j) + '.csv', index=False)\n",
    "\n",
    "                try:\n",
    "                    driver.find_element_by_class_name('ui-search-pagination')\n",
    "                    try:\n",
    "                        url_seguinte = driver.find_element_by_xpath(\"/html/body/main/div/div[1]/section/div[3]/ul/li[2]/a\")\n",
    "                    except:\n",
    "                        url_seguinte = driver.find_element_by_xpath(\"/html/body/main/div/div[1]/section/div[3]/ul/li[3]/a\")\n",
    "\n",
    "                    url_seguinte = url_seguinte.get_attribute('href')\n",
    "                    driver.get(url_seguinte)\n",
    "               \n",
    "                except:\n",
    "                    fim = 'fim'\n",
    "                \n",
    "            j += 1\n",
    "\n",
    "    driver.close()"
   ]
  },
  {
   "cell_type": "markdown",
   "id": "b0144033",
   "metadata": {},
   "source": [
    "###### • Rodar o programa:"
   ]
  },
  {
   "cell_type": "code",
   "execution_count": 6,
   "id": "6238a614",
   "metadata": {},
   "outputs": [
    {
     "name": "stdout",
     "output_type": "stream",
     "text": [
      "3.623 resultados\n",
      "57-58 -  1\n",
      "57-58 -  2\n",
      "57-58 -  3\n",
      "57-58 -  4\n",
      "57-58 -  5\n",
      "57-58 -  6\n",
      "57-58 -  7\n",
      "57-58 -  8\n",
      "57-58 -  9\n",
      "57-58 -  10\n",
      "57-58 -  11\n",
      "57-58 -  12\n",
      "57-58 -  13\n",
      "57-58 -  14\n",
      "57-58 -  15\n",
      "57-58 -  16\n",
      "57-58 -  17\n",
      "57-58 -  18\n",
      "57-58 -  19\n",
      "57-58 -  20\n",
      "57-58 -  21\n",
      "57-58 -  22\n",
      "57-58 -  23\n",
      "57-58 -  24\n",
      "57-58 -  25\n",
      "57-58 -  26\n",
      "57-58 -  27\n",
      "57-58 -  28\n",
      "57-58 -  29\n",
      "57-58 -  30\n",
      "57-58 -  31\n",
      "57-58 -  32\n",
      "57-58 -  33\n",
      "57-58 -  34\n",
      "57-58 -  35\n",
      "57-58 -  36\n",
      "57-58 -  37\n",
      "57-58 -  38\n",
      "57-58 -  39\n",
      "57-58 -  40\n"
     ]
    }
   ],
   "source": [
    "exec_scrapy('57-58')"
   ]
  },
  {
   "cell_type": "code",
   "execution_count": 9,
   "id": "7c06db0b",
   "metadata": {
    "collapsed": true
   },
   "outputs": [
    {
     "name": "stdout",
     "output_type": "stream",
     "text": [
      "1.921 resultados\n",
      "1000-1100 -  1\n",
      "1000-1100 -  2\n",
      "1000-1100 -  3\n",
      "1000-1100 -  4\n",
      "1000-1100 -  5\n",
      "1000-1100 -  6\n",
      "1000-1100 -  7\n",
      "1000-1100 -  8\n",
      "1000-1100 -  9\n",
      "1000-1100 -  10\n",
      "1000-1100 -  11\n",
      "1000-1100 -  12\n",
      "1000-1100 -  13\n",
      "1000-1100 -  14\n",
      "1000-1100 -  15\n",
      "1000-1100 -  16\n",
      "1000-1100 -  17\n",
      "1000-1100 -  18\n",
      "1000-1100 -  19\n",
      "1000-1100 -  20\n",
      "1000-1100 -  21\n",
      "1000-1100 -  22\n",
      "1000-1100 -  23\n",
      "1000-1100 -  24\n",
      "1000-1100 -  25\n",
      "1000-1100 -  26\n",
      "1000-1100 -  27\n",
      "1000-1100 -  28\n",
      "1000-1100 -  29\n",
      "1000-1100 -  30\n",
      "1000-1100 -  31\n",
      "1000-1100 -  32\n",
      "1000-1100 -  33\n",
      "1000-1100 -  34\n",
      "1000-1100 -  35\n",
      "1000-1100 -  36\n",
      "1000-1100 -  37\n",
      "1000-1100 -  38\n",
      "1000-1100 -  39\n",
      "1.007 resultados\n",
      "1100-1200 -  1\n",
      "1100-1200 -  2\n",
      "1100-1200 -  3\n",
      "1100-1200 -  4\n",
      "1100-1200 -  5\n",
      "1100-1200 -  6\n",
      "1100-1200 -  7\n",
      "1100-1200 -  8\n",
      "1100-1200 -  9\n",
      "1100-1200 -  10\n",
      "1100-1200 -  11\n",
      "1100-1200 -  12\n",
      "1100-1200 -  13\n",
      "1100-1200 -  14\n",
      "1100-1200 -  15\n",
      "1100-1200 -  16\n",
      "1100-1200 -  17\n",
      "1100-1200 -  18\n",
      "1100-1200 -  19\n",
      "1100-1200 -  20\n",
      "1100-1200 -  21\n",
      "1.237 resultados\n",
      "1200-1300 -  1\n",
      "1200-1300 -  2\n",
      "1200-1300 -  3\n",
      "1200-1300 -  4\n",
      "1200-1300 -  5\n",
      "1200-1300 -  6\n",
      "1200-1300 -  7\n",
      "1200-1300 -  8\n",
      "1200-1300 -  9\n",
      "1200-1300 -  10\n",
      "1200-1300 -  11\n",
      "1200-1300 -  12\n",
      "1200-1300 -  13\n",
      "1200-1300 -  14\n",
      "1200-1300 -  15\n",
      "1200-1300 -  16\n",
      "1200-1300 -  17\n",
      "1200-1300 -  18\n",
      "1200-1300 -  19\n",
      "1200-1300 -  20\n",
      "1200-1300 -  21\n",
      "1200-1300 -  22\n",
      "1200-1300 -  23\n",
      "1200-1300 -  24\n",
      "1200-1300 -  25\n",
      "494 resultados\n",
      "1300-1400 -  1\n",
      "1300-1400 -  2\n",
      "1300-1400 -  3\n",
      "1300-1400 -  4\n",
      "1300-1400 -  5\n",
      "1300-1400 -  6\n",
      "1300-1400 -  7\n",
      "1300-1400 -  8\n",
      "1300-1400 -  9\n",
      "1300-1400 -  10\n",
      "265 resultados\n",
      "1400-1500 -  1\n",
      "1400-1500 -  2\n",
      "1400-1500 -  3\n",
      "1400-1500 -  4\n",
      "1400-1500 -  5\n",
      "1400-1500 -  6\n",
      "182 resultados\n",
      "1500-1600 -  1\n",
      "1500-1600 -  2\n",
      "1500-1600 -  3\n",
      "1500-1600 -  4\n",
      "152 resultados\n",
      "1600-1700 -  1\n",
      "1600-1700 -  2\n",
      "1600-1700 -  3\n",
      "1600-1700 -  4\n",
      "90 resultados\n",
      "1700-1800 -  1\n",
      "1700-1800 -  2\n",
      "119 resultados\n",
      "1800-1900 -  1\n",
      "1800-1900 -  2\n",
      "1800-1900 -  3\n",
      "105 resultados\n",
      "1900-2000 -  1\n",
      "1900-2000 -  2\n",
      "1900-2000 -  3\n"
     ]
    }
   ],
   "source": [
    "for i in lista_vazia:\n",
    "    exec_scrapy(i)"
   ]
  },
  {
   "cell_type": "code",
   "execution_count": null,
   "id": "fe220774",
   "metadata": {},
   "outputs": [],
   "source": []
  },
  {
   "cell_type": "code",
   "execution_count": 1,
   "id": "00b3e01b",
   "metadata": {},
   "outputs": [],
   "source": [
    "lista_vazia = [ ]\n",
    "for a in range(1000,2000,100):#GERAÇÃO DA LISTA \n",
    "    lista_vazia.append(str(a) + \"-\" + str(a+100))"
   ]
  },
  {
   "cell_type": "code",
   "execution_count": 3,
   "id": "8c6cfb65",
   "metadata": {},
   "outputs": [
    {
     "data": {
      "text/plain": [
       "['1000-1100',\n",
       " '1100-1200',\n",
       " '1200-1300',\n",
       " '1300-1400',\n",
       " '1400-1500',\n",
       " '1500-1600',\n",
       " '1600-1700',\n",
       " '1700-1800',\n",
       " '1800-1900',\n",
       " '1900-2000']"
      ]
     },
     "execution_count": 3,
     "metadata": {},
     "output_type": "execute_result"
    }
   ],
   "source": [
    "lista_vazia"
   ]
  },
  {
   "cell_type": "code",
   "execution_count": null,
   "id": "b181ede4",
   "metadata": {},
   "outputs": [],
   "source": []
  },
  {
   "cell_type": "code",
   "execution_count": null,
   "id": "a4914ddc",
   "metadata": {},
   "outputs": [],
   "source": []
  }
 ],
 "metadata": {
  "kernelspec": {
   "display_name": "Python 3",
   "language": "python",
   "name": "python3"
  },
  "language_info": {
   "codemirror_mode": {
    "name": "ipython",
    "version": 3
   },
   "file_extension": ".py",
   "mimetype": "text/x-python",
   "name": "python",
   "nbconvert_exporter": "python",
   "pygments_lexer": "ipython3",
   "version": "3.8.8"
  }
 },
 "nbformat": 4,
 "nbformat_minor": 5
}
