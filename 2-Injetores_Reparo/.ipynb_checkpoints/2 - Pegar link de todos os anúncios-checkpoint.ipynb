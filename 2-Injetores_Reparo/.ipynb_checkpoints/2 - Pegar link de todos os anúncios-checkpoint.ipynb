{
 "cells": [
  {
   "cell_type": "code",
   "execution_count": 1,
   "metadata": {},
   "outputs": [],
   "source": [
    "from selenium import webdriver\n",
    "from selenium.webdriver.firefox.options import Options\n",
    "import time\n",
    "import pandas as pd"
   ]
  },
  {
   "cell_type": "code",
   "execution_count": 2,
   "metadata": {},
   "outputs": [],
   "source": [
    "# configuracoes iniciais\n",
    "url = \"https://lista.mercadolivre.com.br/pecas/carros/injecao/injetores/reparo_DisplayType_LF_PriceRange_{inicial}-{final}\"\n",
    "options = Options()\n",
    "options.headless = False\n",
    "driver = webdriver.Firefox(options=options)\n",
    "path = \"./bases/\""
   ]
  },
  {
   "cell_type": "code",
   "execution_count": null,
   "metadata": {},
   "outputs": [],
   "source": [
    "# funcao pra pegar os links de uma pagina e salvar um csv\n",
    "def get_urls_page(driver):\n",
    "    lista_urls = []\n",
    "    num_anuncios = int(driver.find_element_by_xpath(\"/html/body/main/div/div[1]/aside/div[2]/span\").text.split(\" \")[0])\n",
    "    \n",
    "    for u in range(1, num_anuncios):\n",
    "        xpath_url = \"/html/body/main/div/div[1]/section/ol/li[{}]/div/div/div[2]/div[1]/a\"\n",
    "        xpath_url_mais_vendido = \"/html/body/main/div/div[1]/section/ol/li[{}]/div/div/div[2]/div[2]/a\"\n",
    "\n",
    "        try:\n",
    "            elem_url = driver.find_element_by_xpath(xpath_url.format(str(u)))\n",
    "            url_anuncio = elem_url.get_attribute(\"href\")\n",
    "        except:\n",
    "            elem_url = driver.find_element_by_xpath(xpath_url_mais_vendido.format(str(u)))\n",
    "            url_anuncio = elem_url.get_attribute(\"href\")\n",
    "\n",
    "        lista_urls.append(lista_urls)\n",
    "        \n",
    "    df = pd.DataFrame({'urls':[lista_urls]})"
   ]
  },
  {
   "cell_type": "code",
   "execution_count": null,
   "metadata": {},
   "outputs": [],
   "source": [
    "def iter_pages(driver):\n",
    "    "
   ]
  },
  {
   "cell_type": "code",
   "execution_count": null,
   "metadata": {},
   "outputs": [],
   "source": [
    "df_lista_precos = pd.read_csv(\"df_lista_precos.csv\")\n",
    "df_lista_precos = df_lista_precos[df_lista_precos[\"status\"] != \"OK\"]\n",
    "\n",
    "for index, row in df_lista_precos.iterrows():\n",
    "    # abrir url\n",
    "    i = row['precos']\n",
    "    f = i + 1\n",
    "    url_get = url.format(\n",
    "        inicial = i,\n",
    "        final = f\n",
    "    )\n",
    "    driver.get(url_get)\n",
    "    \n",
    "    # verificar sem tem algum resultado\n",
    "    try:\n",
    "        elem_busca = driver.find_element_by_xpath(\"/html/body/main/div/div/div[2]/h3\").text\n",
    "    except:\n",
    "        elem_busca = \"\"\n",
    "    \n",
    "    if elem_busca == 'Não há anúncios que correspondem à sua busca.':\n",
    "        print(str(i) + \"-\" + str(f) + \" - \" + \"Sem resultado\")\n",
    "    else:   \n",
    "        iter_pages(driver)\n",
    "        print(str(i) + \"-\" + str(f) + \" - \", str(len(lista_urls)))\n",
    "        \n",
    "    time.sleep(3)\n",
    "    lista_preco.pop(0)"
   ]
  },
  {
   "cell_type": "code",
   "execution_count": null,
   "metadata": {},
   "outputs": [],
   "source": []
  }
 ],
 "metadata": {
  "kernelspec": {
   "display_name": "Python 3",
   "language": "python",
   "name": "python3"
  },
  "language_info": {
   "codemirror_mode": {
    "name": "ipython",
    "version": 3
   },
   "file_extension": ".py",
   "mimetype": "text/x-python",
   "name": "python",
   "nbconvert_exporter": "python",
   "pygments_lexer": "ipython3",
   "version": "3.9.0"
  },
  "toc": {
   "base_numbering": 1,
   "nav_menu": {},
   "number_sections": true,
   "sideBar": true,
   "skip_h1_title": false,
   "title_cell": "Table of Contents",
   "title_sidebar": "Contents",
   "toc_cell": false,
   "toc_position": {},
   "toc_section_display": true,
   "toc_window_display": false
  }
 },
 "nbformat": 4,
 "nbformat_minor": 4
}
