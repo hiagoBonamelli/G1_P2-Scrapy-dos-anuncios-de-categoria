{
 "cells": [
  {
   "cell_type": "code",
   "execution_count": null,
   "metadata": {},
   "outputs": [],
   "source": [
    "from selenium import webdriver\n",
    "from selenium.webdriver.firefox.options import Options\n",
    "import time\n",
    "import pandas as pd"
   ]
  },
  {
   "cell_type": "code",
   "execution_count": null,
   "metadata": {},
   "outputs": [],
   "source": [
    "# configuracoes iniciais\n",
    "url = \"https://lista.mercadolivre.com.br/pecas/carros/injecao/injetores/reparo_DisplayType_LF_PriceRange_{inicial}-{final}\"\n",
    "options = Options()\n",
    "options.headless = False\n",
    "driver = webdriver.Firefox(options=options)\n",
    "path_bases = \"./Injetores-[Reparo]/bases/\""
   ]
  },
  {
   "cell_type": "code",
   "execution_count": null,
   "metadata": {},
   "outputs": [],
   "source": [
    "# funcao pra pegar os links de uma pagina e salvar um csv\n",
    "def get_urls_page(driver, num_page, i, j):\n",
    "    lista_urls = []\n",
    "    num_anuncios_aux = int(driver.find_element_by_xpath(\"/html/body/main/div/div[1]/aside/div[2]/span\").text.split(\" \")[0])\n",
    "    num_anuncios = 50 if num_anuncios_aux > 50 else num_anuncios_aux\n",
    "    \n",
    "    for u in range(1, num_anuncios):\n",
    "        xpath_url = \"/html/body/main/div/div[1]/section/ol/li[{}]/div/div/div[2]/div[1]/a\"\n",
    "        xpath_url_mais_vendido = \"/html/body/main/div/div[1]/section/ol/li[{}]/div/div/div[2]/div[2]/a\"\n",
    "\n",
    "        try:\n",
    "            elem_url = driver.find_element_by_xpath(xpath_url.format(str(u)))\n",
    "            url_anuncio = elem_url.get_attribute(\"href\")\n",
    "        except:\n",
    "            elem_url = driver.find_element_by_xpath(xpath_url_mais_vendido.format(str(u)))\n",
    "            url_anuncio = elem_url.get_attribute(\"href\")\n",
    "\n",
    "        lista_urls.append(lista_urls)\n",
    "        \n",
    "    df = pd.DataFrame({'urls':[lista_urls]})\n",
    "    df_lista_precos.to_csv(path_bases + \"df_lista_precos_\" + str(i) + \"_\" + str(j) + \"_\" + \"page_\" + str(num_page) + \".csv\")"
   ]
  },
  {
   "cell_type": "code",
   "execution_count": null,
   "metadata": {},
   "outputs": [],
   "source": []
  },
  {
   "cell_type": "code",
   "execution_count": null,
   "metadata": {},
   "outputs": [],
   "source": []
  },
  {
   "cell_type": "code",
   "execution_count": null,
   "metadata": {},
   "outputs": [],
   "source": []
  },
  {
   "cell_type": "code",
   "execution_count": null,
   "metadata": {},
   "outputs": [],
   "source": []
  },
  {
   "cell_type": "code",
   "execution_count": null,
   "metadata": {},
   "outputs": [],
   "source": [
    "def iter_pages(driver, i, j):\n",
    "    # identificar numero de paginas\n",
    "    xpath_num_paginas = \"/html/body/main/div/div[1]/section/div[3]/ul/li[2]\"\n",
    "    elem_num_paginas = driver.find_element_by_xpath(xpath_num_paginas)\n",
    "    elem_num_paginas = int(elem_num_paginas.text.split(\" \")[1])\n",
    "    \n",
    "    for num_page in range(1, int(elem_num_paginas)+1):\n",
    "        get_urls_page(driver, num_page, i, j)\n",
    "        time.sleep(2)\n",
    "        if num_page == elem_num_paginas:\n",
    "            pass\n",
    "        else:\n",
    "            driver.find_element_by_xpath(\"/html/body/main/div/div[1]/section/div[3]/ul/li[3]/a\").click()"
   ]
  },
  {
   "cell_type": "code",
   "execution_count": null,
   "metadata": {},
   "outputs": [],
   "source": []
  },
  {
   "cell_type": "code",
   "execution_count": null,
   "metadata": {},
   "outputs": [],
   "source": [
    "iter_pages(driver, \"1\", \"13\")"
   ]
  },
  {
   "cell_type": "code",
   "execution_count": null,
   "metadata": {},
   "outputs": [],
   "source": []
  },
  {
   "cell_type": "code",
   "execution_count": null,
   "metadata": {},
   "outputs": [],
   "source": []
  },
  {
   "cell_type": "code",
   "execution_count": null,
   "metadata": {},
   "outputs": [],
   "source": []
  },
  {
   "cell_type": "code",
   "execution_count": null,
   "metadata": {},
   "outputs": [],
   "source": []
  },
  {
   "cell_type": "code",
   "execution_count": null,
   "metadata": {},
   "outputs": [],
   "source": []
  },
  {
   "cell_type": "code",
   "execution_count": null,
   "metadata": {},
   "outputs": [],
   "source": [
    "df_lista_precos = pd.read_csv(\"df_lista_precos.csv\")\n",
    "df_lista_precos = df_lista_precos[df_lista_precos[\"status\"] != \"OK\"]\n",
    "\n",
    "for index, row in df_lista_precos.iterrows():\n",
    "    # abrir url\n",
    "    i = str(row['precos'])\n",
    "    f = str(int(i) + 1)\n",
    "    url_get = url.format(\n",
    "        inicial = i,\n",
    "        final = f\n",
    "    )\n",
    "    driver.get(url_get)\n",
    "    \n",
    "    # verificar sem tem algum resultado\n",
    "    try:\n",
    "        elem_busca = driver.find_element_by_xpath(\"/html/body/main/div/div/div[2]/h3\").text\n",
    "    except:\n",
    "        elem_busca = \"\"\n",
    "    \n",
    "    if elem_busca == 'Não há anúncios que correspondem à sua busca.':\n",
    "        print(i + \"-\" + f + \" - \" + \"Sem resultado\")\n",
    "    else:   \n",
    "        iter_pages(driver, i, j)\n",
    "        print(i + \"-\" + f + \" - \", str(len(lista_urls)))\n",
    "        \n",
    "    lista_preco.pop(0)"
   ]
  },
  {
   "cell_type": "code",
   "execution_count": null,
   "metadata": {},
   "outputs": [],
   "source": []
  }
 ],
 "metadata": {
  "kernelspec": {
   "display_name": "Python 3",
   "language": "python",
   "name": "python3"
  },
  "language_info": {
   "codemirror_mode": {
    "name": "ipython",
    "version": 3
   },
   "file_extension": ".py",
   "mimetype": "text/x-python",
   "name": "python",
   "nbconvert_exporter": "python",
   "pygments_lexer": "ipython3",
   "version": "3.9.0"
  },
  "toc": {
   "base_numbering": 1,
   "nav_menu": {},
   "number_sections": true,
   "sideBar": true,
   "skip_h1_title": false,
   "title_cell": "Table of Contents",
   "title_sidebar": "Contents",
   "toc_cell": false,
   "toc_position": {},
   "toc_section_display": true,
   "toc_window_display": false
  }
 },
 "nbformat": 4,
 "nbformat_minor": 4
}
